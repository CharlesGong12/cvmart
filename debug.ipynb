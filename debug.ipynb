{
 "cells": [
  {
   "cell_type": "code",
   "execution_count": 1,
   "metadata": {},
   "outputs": [],
   "source": [
    "import re\n",
    "\n",
    "def remove_chinese_chars(text):\n",
    "    pattern =re.compile(r'[\\u4e00-\\u9fa5（）]|\\d+')\n",
    "    return re.sub(pattern, '', text)"
   ]
  },
  {
   "cell_type": "code",
   "execution_count": 6,
   "metadata": {},
   "outputs": [
    {
     "name": "stderr",
     "output_type": "stream",
     "text": [
      "\n",
      "image 1/1 /home/data/2863/ZDStraffic_sign20231108_V4_train_street_102_268.jpg: 384x640 2 persons, 5 cars, 1 truck, 31.7ms\n",
      "Speed: 2.6ms preprocess, 31.7ms inference, 1.6ms postprocess per image at shape (1, 3, 384, 640)\n"
     ]
    },
    {
     "name": "stdout",
     "output_type": "stream",
     "text": [
      "tensor([[0.0000e+00, 6.1102e+02, 2.8184e+02, 9.1739e+02, 7.4656e-01, 2.0000e+00],\n",
      "        [9.2169e+02, 6.5116e+02, 1.0566e+03, 7.5713e+02, 7.0361e-01, 2.0000e+00],\n",
      "        [3.0807e+02, 6.4114e+02, 4.3067e+02, 6.9373e+02, 6.0340e-01, 2.0000e+00],\n",
      "        [8.0453e+02, 6.3999e+02, 9.0768e+02, 7.2383e+02, 4.5669e-01, 2.0000e+00],\n",
      "        [1.8535e+03, 5.4531e+02, 1.8940e+03, 6.5165e+02, 4.4832e-01, 0.0000e+00],\n",
      "        [1.7905e+03, 5.5464e+02, 1.8317e+03, 6.5330e+02, 4.1788e-01, 0.0000e+00],\n",
      "        [8.0396e+02, 6.3924e+02, 9.0758e+02, 7.2485e+02, 3.4579e-01, 7.0000e+00],\n",
      "        [9.0896e+02, 6.5090e+02, 9.5022e+02, 6.8755e+02, 3.2552e-01, 2.0000e+00]], device='cuda:0')\n"
     ]
    }
   ],
   "source": [
    "from ultralytics import YOLO\n",
    "from PIL import Image\n",
    "model = YOLO('/project/train/models/yolov8m.pt')\n",
    "results = model.predict('/home/data/2863/ZDStraffic_sign20231108_V4_train_street_102_268.jpg',device='cuda')\n",
    "print(results[0].boxes.data)"
   ]
  },
  {
   "cell_type": "code",
   "execution_count": 10,
   "metadata": {},
   "outputs": [
    {
     "data": {
      "text/plain": [
       "921.69"
      ]
     },
     "execution_count": 10,
     "metadata": {},
     "output_type": "execute_result"
    },
    {
     "ename": "",
     "evalue": "",
     "output_type": "error",
     "traceback": [
      "\u001b[1;31mThe Kernel crashed while executing code in the the current cell or a previous cell. Please review the code in the cell(s) to identify a possible cause of the failure. Click <a href='https://aka.ms/vscodeJupyterKernelCrash'>here</a> for more info. View Jupyter <a href='command:jupyter.viewOutput'>log</a> for further details."
     ]
    }
   ],
   "source": [
    "9.2169e+02"
   ]
  },
  {
   "cell_type": "code",
   "execution_count": 5,
   "metadata": {
    "tags": []
   },
   "outputs": [
    {
     "name": "stdout",
     "output_type": "stream",
     "text": [
      "0: no_u_turn\n",
      "1: u_turn_allowed\n",
      "2: bus_lane\n",
      "3: motor_vehicle_lane\n",
      "4: motor_vehicle_movement\n",
      "5: combined_u_turn_and_left_turn_lane\n",
      "6: u_turn_lane\n",
      "7: combined_through_and_right_turn_lane\n",
      "8: combined_through_and_left_turn_lane\n",
      "9: through_lane\n",
      "10: left_turn_lane\n",
      "11: right_turn_lane\n",
      "12: pedestrian_crossing\n",
      "13: roundabout_traffic\n",
      "14: drive_on_the_left_side_of_the_median_strip\n",
      "15: drive_on_the_right_side_of_the_median_strip\n",
      "16: turn_left_or_right\n",
      "17: through_and_right_turn\n",
      "18: through_and_left_turn\n",
      "19: right_turn\n",
      "20: left_turn\n",
      "21: straight_ahead\n",
      "22: restricted_parking_area_lifted\n",
      "23: no_parking_area\n",
      "24: long_term_parking_restriction_lifted\n",
      "25: no_long_term_parking\n",
      "26: no_parking\n",
      "27: overtaking_allowed\n",
      "28: no_overtaking\n",
      "29: no_through_and_right_turn\n",
      "30: no_through_and_left_turn\n",
      "31: no_left_and_right_turn\n",
      "32: no_through\n",
      "33:  no_right_turn\n",
      "34: no_left_turn\n",
      "35: no_entry_for_freight_vehicles\n",
      "36: no_entry_for_motor_vehicles\n",
      "37: no_entry\n",
      "38: no_passage\n",
      "39: yield_to_oncoming_traffic\n",
      "40: slow_down_and_yield\n",
      "41: stop_and_yield\n",
      "42: no_entry_for_vehicles_transporting_dangerous_goods\n",
      "43: no_entry_for_large_passenger_vehicles\n",
      "44: other\n",
      "\"no_u_turn\",\n",
      "\"u_turn_allowed\",\n",
      "\"bus_lane\",\n",
      "\"motor_vehicle_lane\",\n",
      "\"motor_vehicle_movement\",\n",
      "\"combined_u_turn_and_left_turn_lane\",\n",
      "\"u_turn_lane\",\n",
      "\"combined_through_and_right_turn_lane\",\n",
      "\"combined_through_and_left_turn_lane\",\n",
      "\"through_lane\",\n",
      "\"left_turn_lane\",\n",
      "\"right_turn_lane\",\n",
      "\"pedestrian_crossing\",\n",
      "\"roundabout_traffic\",\n",
      "\"drive_on_the_left_side_of_the_median_strip\",\n",
      "\"drive_on_the_right_side_of_the_median_strip\",\n",
      "\"turn_left_or_right\",\n",
      "\"through_and_right_turn\",\n",
      "\"through_and_left_turn\",\n",
      "\"right_turn\",\n",
      "\"left_turn\",\n",
      "\"straight_ahead\",\n",
      "\"restricted_parking_area_lifted\",\n",
      "\"no_parking_area\",\n",
      "\"long_term_parking_restriction_lifted\",\n",
      "\"no_long_term_parking\",\n",
      "\"no_parking\",\n",
      "\"overtaking_allowed\",\n",
      "\"no_overtaking\",\n",
      "\"no_through_and_right_turn\",\n",
      "\"no_through_and_left_turn\",\n",
      "\"no_left_and_right_turn\",\n",
      "\"no_through\",\n",
      "\" no_right_turn\",\n",
      "\"no_left_turn\",\n",
      "\"no_entry_for_freight_vehicles\",\n",
      "\"no_entry_for_motor_vehicles\",\n",
      "\"no_entry\",\n",
      "\"no_passage\",\n",
      "\"yield_to_oncoming_traffic\",\n",
      "\"slow_down_and_yield\",\n",
      "\"stop_and_yield\",\n",
      "\"no_entry_for_vehicles_transporting_dangerous_goods\",\n",
      "\"no_entry_for_large_passenger_vehicles\",\n",
      "\"other\",\n"
     ]
    }
   ],
   "source": [
    "import unicodedata\n",
    "label_file = '/project//train/src_repo/categories.txt'\n",
    "\n",
    "label_mapping = {}\n",
    "\n",
    "with open(label_file, 'r') as file:\n",
    "    index = 0\n",
    "    for line in file:\n",
    "        if line!='\\n':\n",
    "            label = line.strip()\n",
    "            label = remove_chinese_chars(label)\n",
    "            label_mapping[label] = index\n",
    "            index += 1\n",
    "\n",
    "# 打印标签映射结果\n",
    "for label, index in label_mapping.items():\n",
    "    print(f\"{index}: {label}\")\n",
    "\n",
    "for label,index in label_mapping.items():                                        \n",
    "    print(f'\"{label}\",')"
   ]
  },
  {
   "cell_type": "code",
   "execution_count": 10,
   "metadata": {},
   "outputs": [
    {
     "name": "stdout",
     "output_type": "stream",
     "text": [
      "Current working directory: /project/train/src_repo\n",
      "Contents of data_folder: ['ZDStraffic_sign20231108_V4_train_street_102_268.jpg', 'ZDStraffic_sign20231108_V4_train_street_102_268.xml', 'ZDStraffic_sign20231108_V4_train_street_10_110.jpg', 'ZDStraffic_sign20231108_V4_train_street_10_110.xml', 'ZDStraffic_sign20231108_V4_train_street_114_56.jpg', 'ZDStraffic_sign20231108_V4_train_street_114_56.xml', 'ZDStraffic_sign20231108_V4_train_street_1161_140.jpg', 'ZDStraffic_sign20231108_V4_train_street_1161_140.xml', 'ZDStraffic_sign20231108_V4_train_street_1197_176.jpg', 'ZDStraffic_sign20231108_V4_train_street_1197_176.xml', 'ZDStraffic_sign20231108_V4_train_street_1320_220.jpg', 'ZDStraffic_sign20231108_V4_train_street_1320_220.xml', 'ZDStraffic_sign20231108_V4_train_street_1350_15.jpg', 'ZDStraffic_sign20231108_V4_train_street_1350_15.xml', 'ZDStraffic_sign20231108_V4_train_street_188_445.jpg', 'ZDStraffic_sign20231108_V4_train_street_188_445.xml', 'ZDStraffic_sign20231108_V4_train_street_20_57.jpg', 'ZDStraffic_sign20231108_V4_train_street_20_57.xml', 'ZDStraffic_sign20231108_V4_train_street_216_13.jpg', 'ZDStraffic_sign20231108_V4_train_street_216_13.xml', 'ZDStraffic_sign20231108_V4_train_street_217_104.jpg', 'ZDStraffic_sign20231108_V4_train_street_217_104.xml', 'ZDStraffic_sign20231108_V4_train_street_21_1644.jpg', 'ZDStraffic_sign20231108_V4_train_street_21_1644.xml', 'ZDStraffic_sign20231108_V4_train_street_25_1867.jpg', 'ZDStraffic_sign20231108_V4_train_street_25_1867.xml', 'ZDStraffic_sign20231108_V4_train_street_271_62.jpg', 'ZDStraffic_sign20231108_V4_train_street_271_62.xml', 'ZDStraffic_sign20231108_V4_train_street_274_34.jpg', 'ZDStraffic_sign20231108_V4_train_street_274_34.xml', 'ZDStraffic_sign20231108_V4_train_street_28_163.jpg', 'ZDStraffic_sign20231108_V4_train_street_28_163.xml', 'ZDStraffic_sign20231108_V4_train_street_310_375.jpg', 'ZDStraffic_sign20231108_V4_train_street_310_375.xml', 'ZDStraffic_sign20231108_V4_train_street_315_214.jpg', 'ZDStraffic_sign20231108_V4_train_street_315_214.xml', 'ZDStraffic_sign20231108_V4_train_street_322_105.jpg', 'ZDStraffic_sign20231108_V4_train_street_322_105.xml', 'ZDStraffic_sign20231108_V4_train_street_325_109.jpg', 'ZDStraffic_sign20231108_V4_train_street_325_109.xml', 'ZDStraffic_sign20231108_V4_train_street_333_394.jpg', 'ZDStraffic_sign20231108_V4_train_street_333_394.xml', 'ZDStraffic_sign20231108_V4_train_street_34_174.jpg', 'ZDStraffic_sign20231108_V4_train_street_34_174.xml', 'ZDStraffic_sign20231108_V4_train_street_364_235.jpg', 'ZDStraffic_sign20231108_V4_train_street_364_235.xml', 'ZDStraffic_sign20231108_V4_train_street_369_274.jpg', 'ZDStraffic_sign20231108_V4_train_street_369_274.xml', 'ZDStraffic_sign20231108_V4_train_street_394_3.jpg', 'ZDStraffic_sign20231108_V4_train_street_394_3.xml', 'ZDStraffic_sign20231108_V4_train_street_398_90.jpg', 'ZDStraffic_sign20231108_V4_train_street_398_90.xml', 'ZDStraffic_sign20231108_V4_train_street_417_102.jpg', 'ZDStraffic_sign20231108_V4_train_street_417_102.xml', 'ZDStraffic_sign20231108_V4_train_street_41_2379.jpg', 'ZDStraffic_sign20231108_V4_train_street_41_2379.xml', 'ZDStraffic_sign20231108_V4_train_street_431_55.jpg', 'ZDStraffic_sign20231108_V4_train_street_431_55.xml', 'ZDStraffic_sign20231108_V4_train_street_45_2322.jpg', 'ZDStraffic_sign20231108_V4_train_street_45_2322.xml', 'ZDStraffic_sign20231108_V4_train_street_460_35.jpg', 'ZDStraffic_sign20231108_V4_train_street_460_35.xml', 'ZDStraffic_sign20231108_V4_train_street_498_82.jpg', 'ZDStraffic_sign20231108_V4_train_street_498_82.xml', 'ZDStraffic_sign20231108_V4_train_street_53_285.jpg', 'ZDStraffic_sign20231108_V4_train_street_53_285.xml', 'ZDStraffic_sign20231108_V4_train_street_548_50.jpg', 'ZDStraffic_sign20231108_V4_train_street_548_50.xml', 'ZDStraffic_sign20231108_V4_train_street_576_62.jpg', 'ZDStraffic_sign20231108_V4_train_street_576_62.xml', 'ZDStraffic_sign20231108_V4_train_street_589_37.jpg', 'ZDStraffic_sign20231108_V4_train_street_589_37.xml', 'ZDStraffic_sign20231108_V4_train_street_59_87 (2).jpg', 'ZDStraffic_sign20231108_V4_train_street_59_87 (2).xml', 'ZDStraffic_sign20231108_V4_train_street_602_1.jpg', 'ZDStraffic_sign20231108_V4_train_street_602_1.xml', 'ZDStraffic_sign20231108_V4_train_street_620_39.jpg', 'ZDStraffic_sign20231108_V4_train_street_620_39.xml', 'ZDStraffic_sign20231108_V4_train_street_702_40.jpg', 'ZDStraffic_sign20231108_V4_train_street_702_40.xml', 'ZDStraffic_sign20231108_V4_train_street_73_1156.jpg', 'ZDStraffic_sign20231108_V4_train_street_73_1156.xml', 'ZDStraffic_sign20231108_V4_train_street_7_262.jpg', 'ZDStraffic_sign20231108_V4_train_street_7_262.xml', 'ZDStraffic_sign20231108_V4_train_street_82_2061.jpg', 'ZDStraffic_sign20231108_V4_train_street_82_2061.xml', 'ZDStraffic_sign20231108_V4_train_street_831_111.jpg', 'ZDStraffic_sign20231108_V4_train_street_831_111.xml', 'ZDStraffic_sign20231108_V4_train_street_844_112.jpg', 'ZDStraffic_sign20231108_V4_train_street_844_112.xml', 'ZDStraffic_sign20231108_V4_train_street_852_95.jpg', 'ZDStraffic_sign20231108_V4_train_street_852_95.xml', 'ZDStraffic_sign20231108_V4_train_street_856_118.jpg', 'ZDStraffic_sign20231108_V4_train_street_856_118.xml', 'ZDStraffic_sign20231108_V4_train_street_871_63.jpg', 'ZDStraffic_sign20231108_V4_train_street_871_63.xml', 'ZDStraffic_sign20231108_V4_train_street_892_116.jpg', 'ZDStraffic_sign20231108_V4_train_street_892_116.xml', 'ZDStraffic_sign20231108_V4_train_street_915_53.jpg', 'ZDStraffic_sign20231108_V4_train_street_915_53.xml']\n",
      "Image files found: ['ZDStraffic_sign20231108_V4_train_street_102_268.jpg', 'ZDStraffic_sign20231108_V4_train_street_10_110.jpg', 'ZDStraffic_sign20231108_V4_train_street_114_56.jpg', 'ZDStraffic_sign20231108_V4_train_street_1161_140.jpg', 'ZDStraffic_sign20231108_V4_train_street_1197_176.jpg', 'ZDStraffic_sign20231108_V4_train_street_1320_220.jpg', 'ZDStraffic_sign20231108_V4_train_street_1350_15.jpg', 'ZDStraffic_sign20231108_V4_train_street_188_445.jpg', 'ZDStraffic_sign20231108_V4_train_street_20_57.jpg', 'ZDStraffic_sign20231108_V4_train_street_216_13.jpg', 'ZDStraffic_sign20231108_V4_train_street_217_104.jpg', 'ZDStraffic_sign20231108_V4_train_street_21_1644.jpg', 'ZDStraffic_sign20231108_V4_train_street_25_1867.jpg', 'ZDStraffic_sign20231108_V4_train_street_271_62.jpg', 'ZDStraffic_sign20231108_V4_train_street_274_34.jpg', 'ZDStraffic_sign20231108_V4_train_street_28_163.jpg', 'ZDStraffic_sign20231108_V4_train_street_310_375.jpg', 'ZDStraffic_sign20231108_V4_train_street_315_214.jpg', 'ZDStraffic_sign20231108_V4_train_street_322_105.jpg', 'ZDStraffic_sign20231108_V4_train_street_325_109.jpg', 'ZDStraffic_sign20231108_V4_train_street_333_394.jpg', 'ZDStraffic_sign20231108_V4_train_street_34_174.jpg', 'ZDStraffic_sign20231108_V4_train_street_364_235.jpg', 'ZDStraffic_sign20231108_V4_train_street_369_274.jpg', 'ZDStraffic_sign20231108_V4_train_street_394_3.jpg', 'ZDStraffic_sign20231108_V4_train_street_398_90.jpg', 'ZDStraffic_sign20231108_V4_train_street_417_102.jpg', 'ZDStraffic_sign20231108_V4_train_street_41_2379.jpg', 'ZDStraffic_sign20231108_V4_train_street_431_55.jpg', 'ZDStraffic_sign20231108_V4_train_street_45_2322.jpg', 'ZDStraffic_sign20231108_V4_train_street_460_35.jpg', 'ZDStraffic_sign20231108_V4_train_street_498_82.jpg', 'ZDStraffic_sign20231108_V4_train_street_53_285.jpg', 'ZDStraffic_sign20231108_V4_train_street_548_50.jpg', 'ZDStraffic_sign20231108_V4_train_street_576_62.jpg', 'ZDStraffic_sign20231108_V4_train_street_589_37.jpg', 'ZDStraffic_sign20231108_V4_train_street_59_87 (2).jpg', 'ZDStraffic_sign20231108_V4_train_street_602_1.jpg', 'ZDStraffic_sign20231108_V4_train_street_620_39.jpg', 'ZDStraffic_sign20231108_V4_train_street_702_40.jpg', 'ZDStraffic_sign20231108_V4_train_street_73_1156.jpg', 'ZDStraffic_sign20231108_V4_train_street_7_262.jpg', 'ZDStraffic_sign20231108_V4_train_street_82_2061.jpg', 'ZDStraffic_sign20231108_V4_train_street_831_111.jpg', 'ZDStraffic_sign20231108_V4_train_street_844_112.jpg', 'ZDStraffic_sign20231108_V4_train_street_852_95.jpg', 'ZDStraffic_sign20231108_V4_train_street_856_118.jpg', 'ZDStraffic_sign20231108_V4_train_street_871_63.jpg', 'ZDStraffic_sign20231108_V4_train_street_892_116.jpg', 'ZDStraffic_sign20231108_V4_train_street_915_53.jpg']\n"
     ]
    }
   ],
   "source": [
    "import os\n",
    "\n",
    "data_folder = '/home/data/2863'\n",
    "print(\"Current working directory:\", os.getcwd())\n",
    "print(\"Contents of data_folder:\", os.listdir(data_folder))\n",
    "\n",
    "image_files = [file for file in os.listdir(data_folder) if file.lower().endswith(('.png', '.jpg', '.jpeg'))]\n",
    "print(\"Image files found:\", image_files)\n"
   ]
  }
 ],
 "metadata": {
  "kernelspec": {
   "display_name": "Python 3 (ipykernel)",
   "language": "python",
   "name": "python3"
  },
  "language_info": {
   "codemirror_mode": {
    "name": "ipython",
    "version": 3
   },
   "file_extension": ".py",
   "mimetype": "text/x-python",
   "name": "python",
   "nbconvert_exporter": "python",
   "pygments_lexer": "ipython3",
   "version": "3.7.16"
  },
  "vscode": {
   "interpreter": {
    "hash": "d4d1e4263499bec80672ea0156c357c1ee493ec2b1c70f0acce89fc37c4a6abe"
   }
  }
 },
 "nbformat": 4,
 "nbformat_minor": 4
}
